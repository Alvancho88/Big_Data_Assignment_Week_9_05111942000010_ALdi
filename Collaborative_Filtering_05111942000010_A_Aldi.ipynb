{
  "nbformat": 4,
  "nbformat_minor": 0,
  "metadata": {
    "colab": {
      "provenance": []
    },
    "kernelspec": {
      "name": "python3",
      "display_name": "Python 3"
    },
    "language_info": {
      "name": "python"
    }
  },
  "cells": [
    {
      "cell_type": "markdown",
      "source": [
        "# BIG DATA ASSIGNMENT WEEK 09\n",
        "## Filtering Collaborative\n",
        "- Name: Agustinus Aldi Irawan Rahardja\n",
        "- Student ID: 05111942000010\n",
        "- Class: Big Data A\n",
        "- Lecturer: Abdul Munif, S.Kom., M.Sc."
      ],
      "metadata": {
        "id": "E0EZbtO_yI-C"
      }
    },
    {
      "cell_type": "markdown",
      "source": [
        "### Reference\n",
        "https://spark.apache.org/docs/latest/ml-collaborative-filtering.html"
      ],
      "metadata": {
        "id": "H9iI8CemyVEK"
      }
    },
    {
      "cell_type": "markdown",
      "source": [
        "## Install & Initialization"
      ],
      "metadata": {
        "id": "c9KkEzrZ4dTS"
      }
    },
    {
      "cell_type": "code",
      "execution_count": 1,
      "metadata": {
        "colab": {
          "base_uri": "https://localhost:8080/"
        },
        "id": "vYTR6G0IyG4A",
        "outputId": "17058bed-ad7f-4fce-b887-6660f36d9b7c"
      },
      "outputs": [
        {
          "output_type": "stream",
          "name": "stdout",
          "text": [
            "Looking in indexes: https://pypi.org/simple, https://us-python.pkg.dev/colab-wheels/public/simple/\n",
            "Collecting pyspark\n",
            "  Downloading pyspark-3.3.2.tar.gz (281.4 MB)\n",
            "\u001b[2K     \u001b[90m━━━━━━━━━━━━━━━━━━━━━━━━━━━━━━━━━━━━━━━\u001b[0m \u001b[32m281.4/281.4 MB\u001b[0m \u001b[31m4.9 MB/s\u001b[0m eta \u001b[36m0:00:00\u001b[0m\n",
            "\u001b[?25h  Preparing metadata (setup.py) ... \u001b[?25l\u001b[?25hdone\n",
            "Collecting py4j==0.10.9.5\n",
            "  Downloading py4j-0.10.9.5-py2.py3-none-any.whl (199 kB)\n",
            "\u001b[2K     \u001b[90m━━━━━━━━━━━━━━━━━━━━━━━━━━━━━━━━━━━━━━━\u001b[0m \u001b[32m199.7/199.7 kB\u001b[0m \u001b[31m6.6 MB/s\u001b[0m eta \u001b[36m0:00:00\u001b[0m\n",
            "\u001b[?25hBuilding wheels for collected packages: pyspark\n",
            "  Building wheel for pyspark (setup.py) ... \u001b[?25l\u001b[?25hdone\n",
            "  Created wheel for pyspark: filename=pyspark-3.3.2-py2.py3-none-any.whl size=281824028 sha256=9ad2ad4a76b5d8b9900c63666a5bd9b6958080c7118e18ffb7771074eb4049ae\n",
            "  Stored in directory: /root/.cache/pip/wheels/6c/e3/9b/0525ce8a69478916513509d43693511463c6468db0de237c86\n",
            "Successfully built pyspark\n",
            "Installing collected packages: py4j, pyspark\n",
            "  Attempting uninstall: py4j\n",
            "    Found existing installation: py4j 0.10.9.7\n",
            "    Uninstalling py4j-0.10.9.7:\n",
            "      Successfully uninstalled py4j-0.10.9.7\n",
            "Successfully installed py4j-0.10.9.5 pyspark-3.3.2\n"
          ]
        }
      ],
      "source": [
        "!pip install pyspark"
      ]
    },
    {
      "cell_type": "code",
      "source": [
        "from pyspark.ml.evaluation import RegressionEvaluator\n",
        "from pyspark.ml.recommendation import ALS\n",
        "from pyspark.sql import Row, SparkSession"
      ],
      "metadata": {
        "id": "oS6Imprj4fXN"
      },
      "execution_count": 1,
      "outputs": []
    },
    {
      "cell_type": "code",
      "source": [
        "# SparkSession Initialization\n",
        "spark = SparkSession.builder \\\n",
        "    .master(\"local\") \\\n",
        "    .appName(\"MovieLens\") \\\n",
        "    .getOrCreate()"
      ],
      "metadata": {
        "id": "v2xq-_OK448L"
      },
      "execution_count": 2,
      "outputs": []
    },
    {
      "cell_type": "code",
      "source": [
        "# Read data from a text file and separate elements of each line\n",
        "lines = spark.read.text(\"./sample_data/sample_movielens_ratings.txt\").rdd\n",
        "parts = lines.map(lambda row: row.value.split(\"::\"))"
      ],
      "metadata": {
        "id": "ZNw4txJp46xa"
      },
      "execution_count": 3,
      "outputs": []
    },
    {
      "cell_type": "code",
      "source": [
        "# Convert data into a DataFrame with userId, movieId, rating, and timestamp columns\n",
        "ratingsRDD = parts.map(lambda p: Row(userId=int(p[0]), movieId=int(p[1]),\n",
        "                                     rating=float(p[2]), timestamp=int(p[3])))\n",
        "\n",
        "# Split the data into training (80%) and testing (20%) sets\n",
        "ratings = spark.createDataFrame(ratingsRDD)\n",
        "(training, test) = ratings.randomSplit([0.8, 0.2])"
      ],
      "metadata": {
        "id": "t1HE9Hih47mD"
      },
      "execution_count": 4,
      "outputs": []
    },
    {
      "cell_type": "markdown",
      "source": [
        "## Build Recomendation model using ALS"
      ],
      "metadata": {
        "id": "PraUnog64-aI"
      }
    },
    {
      "cell_type": "code",
      "source": [
        "# Initialize the parameters to be tried\n",
        "max_iters = [5, 10, 20]\n",
        "reg_params = [0.1, 0.5, 1.0]\n",
        "\n",
        "# Dictionary to store RMSE results\n",
        "results = {}"
      ],
      "metadata": {
        "id": "8NL8Jtlt5AD2"
      },
      "execution_count": 5,
      "outputs": []
    },
    {
      "cell_type": "code",
      "source": [
        "!pip install findspark"
      ],
      "metadata": {
        "colab": {
          "base_uri": "https://localhost:8080/"
        },
        "id": "qDg1IXY565fQ",
        "outputId": "c2ecf4ba-2141-4907-de79-fbe3613f464d"
      },
      "execution_count": 10,
      "outputs": [
        {
          "output_type": "stream",
          "name": "stdout",
          "text": [
            "Looking in indexes: https://pypi.org/simple, https://us-python.pkg.dev/colab-wheels/public/simple/\n",
            "Collecting findspark\n",
            "  Downloading findspark-2.0.1-py2.py3-none-any.whl (4.4 kB)\n",
            "Installing collected packages: findspark\n",
            "Successfully installed findspark-2.0.1\n"
          ]
        }
      ]
    },
    {
      "cell_type": "code",
      "source": [
        "# Loop for every combination of maxIter and regParam\n",
        "for max_iter in max_iters:\n",
        "    for reg_param in reg_params:\n",
        "        # Build the recommendation model using ALS on the training data\n",
        "        # Note we set cold start strategy to 'drop' to ensure we don't get NaN evaluation metrics\n",
        "        als = ALS(maxIter=max_iter, regParam=reg_param, userCol=\"userId\", itemCol=\"movieId\", ratingCol=\"rating\",\n",
        "                  coldStartStrategy=\"drop\")\n",
        "        model = als.fit(training)\n",
        "\n",
        "        # Evaluate the model by computing the RMSE on the test data\n",
        "        predictions = model.transform(test)\n",
        "        evaluator = RegressionEvaluator(metricName=\"rmse\", labelCol=\"rating\",\n",
        "                                        predictionCol=\"prediction\")\n",
        "        rmse = evaluator.evaluate(predictions)\n",
        "\n",
        "        # Save the RMSE result in the dictionary\n",
        "        results[(max_iter, reg_param)] = rmse\n",
        "        print(f\"Root-mean-square error for maxIter={max_iter}, regParam={reg_param} = {rmse}\")"
      ],
      "metadata": {
        "colab": {
          "base_uri": "https://localhost:8080/"
        },
        "id": "bLQ34pLH5F6V",
        "outputId": "d538e86f-f9ee-48ff-f1c3-17485be3c863"
      },
      "execution_count": 6,
      "outputs": [
        {
          "output_type": "stream",
          "name": "stdout",
          "text": [
            "Root-mean-square error for maxIter=5, regParam=0.1 = 1.1181599522779593\n",
            "Root-mean-square error for maxIter=5, regParam=0.5 = 1.3420819037625813\n",
            "Root-mean-square error for maxIter=5, regParam=1.0 = 1.648282507027418\n",
            "Root-mean-square error for maxIter=10, regParam=0.1 = 1.0516795859269352\n",
            "Root-mean-square error for maxIter=10, regParam=0.5 = 1.3397644437245055\n",
            "Root-mean-square error for maxIter=10, regParam=1.0 = 1.6482810348270984\n",
            "Root-mean-square error for maxIter=20, regParam=0.1 = 1.0470312120846181\n",
            "Root-mean-square error for maxIter=20, regParam=0.5 = 1.3402623990325133\n",
            "Root-mean-square error for maxIter=20, regParam=1.0 = 1.6482810342764438\n"
          ]
        }
      ]
    },
    {
      "cell_type": "code",
      "source": [
        "# Find the hyperparameter combination with the lowest RMSE\n",
        "best_params = min(results, key=results.get)\n",
        "best_rmse = results[best_params]\n",
        "print(f\"\\nBest hyperparameters: maxIter={best_params[0]}, regParam={best_params[1]} with RMSE={best_rmse}\")"
      ],
      "metadata": {
        "colab": {
          "base_uri": "https://localhost:8080/"
        },
        "id": "MdSA9CGM5Kra",
        "outputId": "c8b56820-7769-4dd0-ecc6-150f5604e45a"
      },
      "execution_count": 7,
      "outputs": [
        {
          "output_type": "stream",
          "name": "stdout",
          "text": [
            "\n",
            "Best hyperparameters: maxIter=20, regParam=0.1 with RMSE=1.0470312120846181\n"
          ]
        }
      ]
    },
    {
      "cell_type": "markdown",
      "source": [
        "## Generate Movie Recomendation"
      ],
      "metadata": {
        "id": "Plc3yIJI5Mbm"
      }
    },
    {
      "cell_type": "code",
      "source": [
        "# Train the model with the best hyperparameters\n",
        "best_als = ALS(maxIter=best_params[0], regParam=best_params[1], userCol=\"userId\", itemCol=\"movieId\", ratingCol=\"rating\",\n",
        "               coldStartStrategy=\"drop\")\n",
        "best_model = best_als.fit(training)"
      ],
      "metadata": {
        "id": "A6o4I_7g5OxD"
      },
      "execution_count": 8,
      "outputs": []
    },
    {
      "cell_type": "markdown",
      "source": [
        "## Print Result and Show Ouput"
      ],
      "metadata": {
        "id": "eQCHiJh95PTs"
      }
    },
    {
      "cell_type": "code",
      "source": [
        "# Generate top 10 movie recommendations for each user\n",
        "userRecs = best_model.recommendForAllUsers(10)\n",
        "userRecs.show()"
      ],
      "metadata": {
        "colab": {
          "base_uri": "https://localhost:8080/"
        },
        "id": "KJYE2MX75Q3Y",
        "outputId": "3dc3a1ba-06a6-4e77-cb63-8ec29dee5cc0"
      },
      "execution_count": 9,
      "outputs": [
        {
          "output_type": "stream",
          "name": "stdout",
          "text": [
            "+------+--------------------+\n",
            "|userId|     recommendations|\n",
            "+------+--------------------+\n",
            "|    20|[{22, 3.9751616},...|\n",
            "|    10|[{2, 3.4396794}, ...|\n",
            "|     0|[{92, 2.9995809},...|\n",
            "|     1|[{62, 3.087924}, ...|\n",
            "|    21|[{53, 4.068073}, ...|\n",
            "|    11|[{30, 4.540894}, ...|\n",
            "|    12|[{46, 4.1709056},...|\n",
            "|    22|[{75, 4.627915}, ...|\n",
            "|     2|[{93, 4.684606}, ...|\n",
            "|    13|[{93, 3.1345673},...|\n",
            "|     3|[{51, 4.071301}, ...|\n",
            "|    23|[{46, 4.97689}, {...|\n",
            "|     4|[{53, 3.8484697},...|\n",
            "|    24|[{96, 3.7843173},...|\n",
            "|    14|[{29, 4.6642785},...|\n",
            "|     5|[{32, 3.7756653},...|\n",
            "|    15|[{1, 2.7751334}, ...|\n",
            "|    25|[{47, 2.9922917},...|\n",
            "|    26|[{22, 4.817207}, ...|\n",
            "|     6|[{25, 3.8545783},...|\n",
            "+------+--------------------+\n",
            "only showing top 20 rows\n",
            "\n"
          ]
        }
      ]
    },
    {
      "cell_type": "code",
      "source": [
        "# Generate top 10 user recommendations for each movie\n",
        "movieRecs = best_model.recommendForAllItems(10)\n",
        "movieRecs.show()"
      ],
      "metadata": {
        "colab": {
          "base_uri": "https://localhost:8080/"
        },
        "id": "ua7deb-v5SFB",
        "outputId": "b3190ab1-e45e-4f38-ad38-aed505e4962c"
      },
      "execution_count": 10,
      "outputs": [
        {
          "output_type": "stream",
          "name": "stdout",
          "text": [
            "+-------+--------------------+\n",
            "|movieId|     recommendations|\n",
            "+-------+--------------------+\n",
            "|     20|[{17, 3.8699784},...|\n",
            "|     40|[{2, 3.4557195}, ...|\n",
            "|     10|[{17, 3.5745504},...|\n",
            "|     50|[{23, 3.7012196},...|\n",
            "|     80|[{26, 3.936153}, ...|\n",
            "|     70|[{21, 3.1901}, {8...|\n",
            "|     60|[{22, 2.6208816},...|\n",
            "|     90|[{17, 4.729562}, ...|\n",
            "|     30|[{11, 4.540894}, ...|\n",
            "|      0|[{28, 2.524856}, ...|\n",
            "|     31|[{12, 2.8562407},...|\n",
            "|     81|[{28, 3.9458597},...|\n",
            "|     91|[{12, 2.812576}, ...|\n",
            "|      1|[{25, 2.8214736},...|\n",
            "|     41|[{21, 3.222383}, ...|\n",
            "|     61|[{7, 2.0230844}, ...|\n",
            "|     51|[{26, 4.3740354},...|\n",
            "|     21|[{26, 2.6921322},...|\n",
            "|     11|[{2, 1.387227}, {...|\n",
            "|     71|[{11, 2.5183535},...|\n",
            "+-------+--------------------+\n",
            "only showing top 20 rows\n",
            "\n"
          ]
        }
      ]
    },
    {
      "cell_type": "code",
      "source": [
        "# Generate top 10 movie recommendations for a specific set of users\n",
        "users = ratings.select(best_als.getUserCol()).distinct().limit(3)\n",
        "userSubsetRecs = best_model.recommendForUserSubset(users, 10)\n",
        "userSubsetRecs.show()"
      ],
      "metadata": {
        "colab": {
          "base_uri": "https://localhost:8080/"
        },
        "id": "zdEPQLci5XGV",
        "outputId": "4173a451-ac3c-4c8f-a83a-694d9e7efa8a"
      },
      "execution_count": 11,
      "outputs": [
        {
          "output_type": "stream",
          "name": "stdout",
          "text": [
            "+------+--------------------+\n",
            "|userId|     recommendations|\n",
            "+------+--------------------+\n",
            "|    26|[{22, 4.817207}, ...|\n",
            "|    19|[{94, 3.4780343},...|\n",
            "|    29|[{46, 4.0811605},...|\n",
            "+------+--------------------+\n",
            "\n"
          ]
        }
      ]
    },
    {
      "cell_type": "code",
      "source": [
        "# Generate top 10 user recommendations for a specific set of movies\n",
        "movies = ratings.select(best_als.getItemCol()).distinct().limit(3)\n",
        "movieSubSetRecs = best_model.recommendForItemSubset(movies, 10)\n",
        "movieSubSetRecs.show()"
      ],
      "metadata": {
        "colab": {
          "base_uri": "https://localhost:8080/"
        },
        "id": "PwCAoe945XM2",
        "outputId": "f32b213a-5952-4ba6-8b08-789853389571"
      },
      "execution_count": 12,
      "outputs": [
        {
          "output_type": "stream",
          "name": "stdout",
          "text": [
            "+-------+--------------------+\n",
            "|movieId|     recommendations|\n",
            "+-------+--------------------+\n",
            "|     65|[{23, 4.01176}, {...|\n",
            "|     26|[{25, 2.0301652},...|\n",
            "|     29|[{8, 4.7330728}, ...|\n",
            "+-------+--------------------+\n",
            "\n"
          ]
        }
      ]
    },
    {
      "cell_type": "markdown",
      "source": [
        "## Summary\n",
        "\n",
        "The following sections describe the implemented steps:\n",
        "\n",
        "* Data Loading and Preprocessing: </br>\n",
        "We loaded the MovieLens dataset, processed it, and split it into training and test sets.\n",
        "\n",
        "* Hyperparameter Tuning: </br>\n",
        "We tried different combinations of maxIter and regParam values, evaluated the models on the test set, and stored the RMSE results in a dictionary.\n",
        "\n",
        "* Model Selection: </br>\n",
        "We identified the best hyperparameter combination based on the lowest RMSE and displayed the results.\n",
        "\n",
        "* Generating Recommendations: </br>\n",
        "We trained the model using the best hyperparameters and generated recommendations for all users, all movies, a subset of users, and a subset of movies.\n",
        "\n",
        "The output shows the top 10 recommendations for each user, movie, and the specified subsets."
      ],
      "metadata": {
        "id": "6ydaJbz75ZM8"
      }
    }
  ]
}